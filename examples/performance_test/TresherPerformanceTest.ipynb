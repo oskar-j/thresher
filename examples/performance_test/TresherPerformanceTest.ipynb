{
 "cells": [
  {
   "cell_type": "code",
   "execution_count": null,
   "metadata": {},
   "outputs": [],
   "source": [
    "!pip install git+https://github.com/oskar-j/thresher.git"
   ]
  },
  {
   "cell_type": "markdown",
   "metadata": {},
   "source": [
    "## Import package"
   ]
  },
  {
   "cell_type": "code",
   "execution_count": 1,
   "metadata": {},
   "outputs": [],
   "source": [
    "import numpy as np\n",
    "import pandas as pd\n",
    "import thresher\n",
    "import time\n",
    "\n",
    "t = thresher.Thresher()"
   ]
  },
  {
   "cell_type": "code",
   "execution_count": 2,
   "metadata": {},
   "outputs": [
    {
     "name": "stdout",
     "output_type": "stream",
     "text": [
      "Currently supported algorithms:\n",
      "['auto', 'ls', 'sgd', 'gen', 'grid', 'sgrid']\n"
     ]
    }
   ],
   "source": [
    "print('Currently supported algorithms:')\n",
    "print(t.get_supported_algorithms())"
   ]
  },
  {
   "cell_type": "markdown",
   "metadata": {},
   "source": [
    "## Read test data"
   ]
  },
  {
   "cell_type": "code",
   "execution_count": null,
   "metadata": {},
   "outputs": [],
   "source": [
    "# to load the data, unpack the milion_samples.7z file first"
   ]
  },
  {
   "cell_type": "code",
   "execution_count": 3,
   "metadata": {},
   "outputs": [],
   "source": [
    "data = pd.read_csv('milion_samples.csv')"
   ]
  },
  {
   "cell_type": "code",
   "execution_count": 4,
   "metadata": {},
   "outputs": [
    {
     "data": {
      "text/plain": [
       "'Read 1000000 rows of data'"
      ]
     },
     "execution_count": 4,
     "metadata": {},
     "output_type": "execute_result"
    }
   ],
   "source": [
    "f'Read {len(data)} rows of data'"
   ]
  },
  {
   "cell_type": "code",
   "execution_count": 5,
   "metadata": {},
   "outputs": [
    {
     "data": {
      "text/html": [
       "<div>\n",
       "<style scoped>\n",
       "    .dataframe tbody tr th:only-of-type {\n",
       "        vertical-align: middle;\n",
       "    }\n",
       "\n",
       "    .dataframe tbody tr th {\n",
       "        vertical-align: top;\n",
       "    }\n",
       "\n",
       "    .dataframe thead th {\n",
       "        text-align: right;\n",
       "    }\n",
       "</style>\n",
       "<table border=\"1\" class=\"dataframe\">\n",
       "  <thead>\n",
       "    <tr style=\"text-align: right;\">\n",
       "      <th></th>\n",
       "      <th>actual_label</th>\n",
       "      <th>score</th>\n",
       "    </tr>\n",
       "  </thead>\n",
       "  <tbody>\n",
       "    <tr>\n",
       "      <th>0</th>\n",
       "      <td>1</td>\n",
       "      <td>0.974296</td>\n",
       "    </tr>\n",
       "    <tr>\n",
       "      <th>1</th>\n",
       "      <td>1</td>\n",
       "      <td>0.983075</td>\n",
       "    </tr>\n",
       "    <tr>\n",
       "      <th>2</th>\n",
       "      <td>0</td>\n",
       "      <td>0.759452</td>\n",
       "    </tr>\n",
       "    <tr>\n",
       "      <th>3</th>\n",
       "      <td>0</td>\n",
       "      <td>0.089109</td>\n",
       "    </tr>\n",
       "    <tr>\n",
       "      <th>4</th>\n",
       "      <td>1</td>\n",
       "      <td>0.984881</td>\n",
       "    </tr>\n",
       "  </tbody>\n",
       "</table>\n",
       "</div>"
      ],
      "text/plain": [
       "   actual_label     score\n",
       "0             1  0.974296\n",
       "1             1  0.983075\n",
       "2             0  0.759452\n",
       "3             0  0.089109\n",
       "4             1  0.984881"
      ]
     },
     "execution_count": 5,
     "metadata": {},
     "output_type": "execute_result"
    }
   ],
   "source": [
    "data.head()"
   ]
  },
  {
   "cell_type": "markdown",
   "metadata": {},
   "source": [
    "## Evaluate algorithms"
   ]
  },
  {
   "cell_type": "markdown",
   "metadata": {},
   "source": [
    "### Algorithm: LS"
   ]
  },
  {
   "cell_type": "code",
   "execution_count": 6,
   "metadata": {},
   "outputs": [],
   "source": [
    "t_ls = thresher.Thresher(algorithm='ls', \n",
    "                      progress_bar=True, labels=(0,1), \n",
    "                      algorithm_params={'n_jobs': 10})"
   ]
  },
  {
   "cell_type": "code",
   "execution_count": null,
   "metadata": {},
   "outputs": [],
   "source": [
    "# too slow for 10^6 rows of data\n",
    "# there is some room to tweak the paralelization as well"
   ]
  },
  {
   "cell_type": "code",
   "execution_count": null,
   "metadata": {},
   "outputs": [],
   "source": [
    "# s_time = time.process_time()\n",
    "# result = t_ls.optimize_threshold(data.score.values, data.actual_label.values)\n",
    "# elapsed_time = time.process_time() - s_time"
   ]
  },
  {
   "cell_type": "markdown",
   "metadata": {},
   "source": [
    "### Algorithm: SGD"
   ]
  },
  {
   "cell_type": "code",
   "execution_count": 13,
   "metadata": {},
   "outputs": [],
   "source": [
    "t_sgd = thresher.Thresher(algorithm='sgd', \n",
    "                          progress_bar=True, labels=(0,1))"
   ]
  },
  {
   "cell_type": "code",
   "execution_count": 14,
   "metadata": {},
   "outputs": [],
   "source": [
    "results = []"
   ]
  },
  {
   "cell_type": "code",
   "execution_count": 15,
   "metadata": {},
   "outputs": [
    {
     "name": "stdout",
     "output_type": "stream",
     "text": [
      "Process took 0.7443240000000002 seconds and gave result of 0.5162577102954293\n",
      "Process took 0.7188130000000008 seconds and gave result of 0.5162577102954293\n",
      "Process took 0.7002949999999997 seconds and gave result of 0.5162577102954293\n",
      "Process took 0.9045120000000004 seconds and gave result of 0.5172416417344768\n",
      "Process took 0.6866709999999996 seconds and gave result of 0.5162577102954293\n",
      "Process took 0.8574999999999999 seconds and gave result of 0.5168159060263999\n",
      "Process took 0.8237519999999998 seconds and gave result of 0.5162577102954293\n",
      "Process took 0.836879999999999 seconds and gave result of 0.517066410903332\n",
      "Process took 1.2367670000000004 seconds and gave result of 0.517527811922288\n",
      "Process took 0.779520999999999 seconds and gave result of 0.5162577102954293\n"
     ]
    }
   ],
   "source": [
    "for _ in range(10):\n",
    "    s_time = time.process_time()\n",
    "    result = t_sgd.optimize_threshold(data.score.values, data.actual_label.values)\n",
    "    elapsed_time = time.process_time() - s_time\n",
    "    print(f'Process took {elapsed_time} seconds and gave result of {result}')\n",
    "    results.append((elapsed_time, result))"
   ]
  },
  {
   "cell_type": "code",
   "execution_count": 18,
   "metadata": {},
   "outputs": [
    {
     "data": {
      "text/plain": [
       "'Mean cpu time: 0.8289034999999998 mean result: 0.5166198032359073'"
      ]
     },
     "execution_count": 18,
     "metadata": {},
     "output_type": "execute_result"
    }
   ],
   "source": [
    "f'Mean cpu time: {np.mean([_[0] for _ in results])} mean result: {np.mean([_[1] for _ in results])}'"
   ]
  },
  {
   "cell_type": "markdown",
   "metadata": {},
   "source": [
    "### Algorithm: GEN"
   ]
  },
  {
   "cell_type": "code",
   "execution_count": 19,
   "metadata": {},
   "outputs": [],
   "source": [
    "t_gen = thresher.Thresher(algorithm='gen', \n",
    "                          progress_bar=True, labels=(0,1))"
   ]
  },
  {
   "cell_type": "code",
   "execution_count": 20,
   "metadata": {},
   "outputs": [],
   "source": [
    "results = []"
   ]
  },
  {
   "cell_type": "code",
   "execution_count": 21,
   "metadata": {},
   "outputs": [
    {
     "name": "stdout",
     "output_type": "stream",
     "text": [
      " |####################################################################################################| 100.0% \n",
      "Process took 165.537085 seconds and gave result of 0.3342839526941856\n",
      " |####################################################################################################| 100.0% \n",
      "Process took 167.15820599999998 seconds and gave result of 0.4591834735375162\n",
      " |####################################################################################################| 100.0% \n",
      "Process took 172.54984000000002 seconds and gave result of 0.2398139297250794\n",
      " |####################################################################################################| 100.0% \n",
      "Process took 176.73918600000002 seconds and gave result of 0.4484500148264838\n",
      " |####################################################################################################| 100.0% \n",
      "Process took 161.09605299999998 seconds and gave result of 0.40848835242990983\n",
      " |####################################################################################################| 100.0% \n",
      "Process took 162.03186900000003 seconds and gave result of 0.37872065392357757\n",
      " |####################################################################################################| 100.0% \n",
      "Process took 162.294169 seconds and gave result of 0.5053351237622634\n",
      " |####################################################################################################| 100.0% \n",
      "Process took 166.92480799999998 seconds and gave result of 0.5369835997601099\n",
      " |####################################################################################################| 100.0% \n",
      "Process took 162.875994 seconds and gave result of 0.3876508636453607\n",
      " |####################################################################################################| 100.0% \n",
      "Process took 157.47474899999997 seconds and gave result of 0.45044810521354595\n"
     ]
    }
   ],
   "source": [
    "for _ in range(10):\n",
    "    s_time = time.process_time()\n",
    "    result = t_gen.optimize_threshold(data.score.values, data.actual_label.values)\n",
    "    elapsed_time = time.process_time() - s_time\n",
    "    print(f'Process took {elapsed_time} seconds and gave result of {result}')\n",
    "    results.append((elapsed_time, result))"
   ]
  },
  {
   "cell_type": "code",
   "execution_count": 22,
   "metadata": {},
   "outputs": [
    {
     "data": {
      "text/plain": [
       "'Mean cpu time: 165.4681959 mean result: 0.41493580695180327'"
      ]
     },
     "execution_count": 22,
     "metadata": {},
     "output_type": "execute_result"
    }
   ],
   "source": [
    "f'Mean cpu time: {np.mean([_[0] for _ in results])} mean result: {np.mean([_[1] for _ in results])}'"
   ]
  },
  {
   "cell_type": "markdown",
   "metadata": {},
   "source": [
    "### Algorithm: Grid search"
   ]
  },
  {
   "cell_type": "code",
   "execution_count": 23,
   "metadata": {},
   "outputs": [],
   "source": [
    "t_grid = thresher.Thresher(algorithm='grid', \n",
    "                           progress_bar=True, labels=(0,1))"
   ]
  },
  {
   "cell_type": "code",
   "execution_count": 24,
   "metadata": {},
   "outputs": [],
   "source": [
    "results = []"
   ]
  },
  {
   "cell_type": "code",
   "execution_count": 25,
   "metadata": {},
   "outputs": [
    {
     "name": "stdout",
     "output_type": "stream",
     "text": [
      " |####################################################################################################| 100.0% \n",
      " |####################################################################################################| 100.0% \n",
      "Process took 11.979750999999851 seconds and gave result of 0.48\n",
      " |####################################################################################################| 100.0% \n",
      " |####################################################################################################| 100.0% \n",
      "Process took 12.093507000000045 seconds and gave result of 0.48\n",
      " |####################################################################################################| 100.0% \n",
      " |####################################################################################################| 100.0% \n",
      "Process took 12.435658999999987 seconds and gave result of 0.48\n",
      " |####################################################################################################| 100.0% \n",
      " |####################################################################################################| 100.0% \n",
      "Process took 12.863698000000113 seconds and gave result of 0.48\n",
      " |####################################################################################################| 100.0% \n",
      " |####################################################################################################| 100.0% \n",
      "Process took 13.046388999999863 seconds and gave result of 0.48\n",
      " |####################################################################################################| 100.0% \n",
      " |####################################################################################################| 100.0% \n",
      "Process took 13.335777000000007 seconds and gave result of 0.48\n",
      " |####################################################################################################| 100.0% \n",
      " |####################################################################################################| 100.0% \n",
      "Process took 13.908678000000009 seconds and gave result of 0.48\n",
      " |####################################################################################################| 100.0% \n",
      " |####################################################################################################| 100.0% \n",
      "Process took 13.716195999999854 seconds and gave result of 0.48\n",
      " |####################################################################################################| 100.0% \n",
      " |####################################################################################################| 100.0% \n",
      "Process took 13.899486000000024 seconds and gave result of 0.48\n",
      " |####################################################################################################| 100.0% \n",
      " |####################################################################################################| 100.0% \n",
      "Process took 14.16879999999992 seconds and gave result of 0.48\n"
     ]
    }
   ],
   "source": [
    "for _ in range(10):\n",
    "    s_time = time.process_time()\n",
    "    result = t_grid.optimize_threshold(data.score.values, data.actual_label.values)\n",
    "    elapsed_time = time.process_time() - s_time\n",
    "    print(f'Process took {elapsed_time} seconds and gave result of {result}')\n",
    "    results.append((elapsed_time, result))"
   ]
  },
  {
   "cell_type": "code",
   "execution_count": 26,
   "metadata": {},
   "outputs": [
    {
     "data": {
      "text/plain": [
       "'Mean cpu time: 13.144794099999967 mean result: 0.4800000000000001'"
      ]
     },
     "execution_count": 26,
     "metadata": {},
     "output_type": "execute_result"
    }
   ],
   "source": [
    "f'Mean cpu time: {np.mean([_[0] for _ in results])} mean result: {np.mean([_[1] for _ in results])}'"
   ]
  },
  {
   "cell_type": "markdown",
   "metadata": {},
   "source": [
    "### Algorithm: Stochastic Grid search"
   ]
  },
  {
   "cell_type": "code",
   "execution_count": 27,
   "metadata": {},
   "outputs": [],
   "source": [
    "t_sgrid = thresher.Thresher(algorithm='sgrid', \n",
    "                            progress_bar=True, labels=(0,1))"
   ]
  },
  {
   "cell_type": "code",
   "execution_count": 28,
   "metadata": {},
   "outputs": [],
   "source": [
    "results = []"
   ]
  },
  {
   "cell_type": "code",
   "execution_count": 29,
   "metadata": {},
   "outputs": [
    {
     "name": "stdout",
     "output_type": "stream",
     "text": [
      " |####################################################################################################| 100.0% \n",
      " |####################################################################################################| 100.0% \n",
      "Process took 2.308320999999978 seconds and gave result of 0.51\n",
      " |####################################################################################################| 100.0% \n",
      " |####################################################################################################| 100.0% \n",
      "Process took 2.2762410000000273 seconds and gave result of 0.5\n",
      " |####################################################################################################| 100.0% \n",
      " |####################################################################################################| 100.0% \n",
      "Process took 2.3001150000000052 seconds and gave result of 0.51\n",
      " |####################################################################################################| 100.0% \n",
      " |####################################################################################################| 100.0% \n",
      "Process took 2.4264590000000226 seconds and gave result of 0.47000000000000003\n",
      " |####################################################################################################| 100.0% \n",
      " |####################################################################################################| 100.0% \n",
      "Process took 2.270811999999978 seconds and gave result of 0.48\n",
      " |####################################################################################################| 100.0% \n",
      " |####################################################################################################| 100.0% \n",
      "Process took 2.3125569999999698 seconds and gave result of 0.52\n",
      " |####################################################################################################| 100.0% \n",
      " |####################################################################################################| 100.0% \n",
      "Process took 2.2285299999998642 seconds and gave result of 0.47000000000000003\n",
      " |####################################################################################################| 100.0% \n",
      " |####################################################################################################| 100.0% \n",
      "Process took 2.5741259999999784 seconds and gave result of 0.44\n",
      " |####################################################################################################| 100.0% \n",
      " |####################################################################################################| 100.0% \n",
      "Process took 2.343465000000151 seconds and gave result of 0.47000000000000003\n",
      " |####################################################################################################| 100.0% \n",
      " |####################################################################################################| 100.0% \n",
      "Process took 2.3264369999999417 seconds and gave result of 0.46\n"
     ]
    }
   ],
   "source": [
    "for _ in range(10):\n",
    "    s_time = time.process_time()\n",
    "    result = t_sgrid.optimize_threshold(data.score.values, data.actual_label.values)\n",
    "    elapsed_time = time.process_time() - s_time\n",
    "    print(f'Process took {elapsed_time} seconds and gave result of {result}')\n",
    "    results.append((elapsed_time, result))"
   ]
  },
  {
   "cell_type": "code",
   "execution_count": 30,
   "metadata": {},
   "outputs": [
    {
     "data": {
      "text/plain": [
       "'Mean cpu time: 2.3367062999999915 mean result: 0.483'"
      ]
     },
     "execution_count": 30,
     "metadata": {},
     "output_type": "execute_result"
    }
   ],
   "source": [
    "f'Mean cpu time: {np.mean([_[0] for _ in results])} mean result: {np.mean([_[1] for _ in results])}'"
   ]
  },
  {
   "cell_type": "markdown",
   "metadata": {},
   "source": [
    "### Algorithm: Stochastic Grid search"
   ]
  },
  {
   "cell_type": "markdown",
   "metadata": {},
   "source": [
    "#### different params"
   ]
  },
  {
   "cell_type": "code",
   "execution_count": 44,
   "metadata": {},
   "outputs": [],
   "source": [
    "t_sgrid = thresher.Thresher(algorithm='sgrid', \n",
    "                            progress_bar=False, labels=(0,1),\n",
    "                            algorithm_params={'no_of_decimal_places': 2,\n",
    "                                              'stoch_ratio': 0.04,\n",
    "                                              'reshuffle': False})"
   ]
  },
  {
   "cell_type": "code",
   "execution_count": 45,
   "metadata": {},
   "outputs": [],
   "source": [
    "results = []"
   ]
  },
  {
   "cell_type": "code",
   "execution_count": 46,
   "metadata": {},
   "outputs": [
    {
     "name": "stdout",
     "output_type": "stream",
     "text": [
      "Process took 1.7316349999998693 seconds and gave result of 0.51\n",
      "Process took 1.6873630000000048 seconds and gave result of 0.51\n",
      "Process took 1.74340200000006 seconds and gave result of 0.47000000000000003\n",
      "Process took 1.785188000000062 seconds and gave result of 0.49\n",
      "Process took 1.7099889999999505 seconds and gave result of 0.47000000000000003\n",
      "Process took 1.6689440000000104 seconds and gave result of 0.48\n",
      "Process took 1.6211889999999585 seconds and gave result of 0.48\n",
      "Process took 1.6211840000000848 seconds and gave result of 0.53\n",
      "Process took 1.7044220000000223 seconds and gave result of 0.51\n",
      "Process took 1.7553729999999632 seconds and gave result of 0.46\n"
     ]
    }
   ],
   "source": [
    "for _ in range(10):\n",
    "    s_time = time.process_time()\n",
    "    result = t_sgrid.optimize_threshold(data.score.values, data.actual_label.values)\n",
    "    elapsed_time = time.process_time() - s_time\n",
    "    print(f'Process took {elapsed_time} seconds and gave result of {result}')\n",
    "    results.append((elapsed_time, result))"
   ]
  },
  {
   "cell_type": "code",
   "execution_count": 47,
   "metadata": {},
   "outputs": [
    {
     "data": {
      "text/plain": [
       "'Mean cpu time: 1.7028688999999986 mean result: 0.491'"
      ]
     },
     "execution_count": 47,
     "metadata": {},
     "output_type": "execute_result"
    }
   ],
   "source": [
    "f'Mean cpu time: {np.mean([_[0] for _ in results])} mean result: {np.mean([_[1] for _ in results])}'"
   ]
  },
  {
   "cell_type": "code",
   "execution_count": null,
   "metadata": {},
   "outputs": [],
   "source": []
  }
 ],
 "metadata": {
  "kernelspec": {
   "display_name": "Python 3",
   "language": "python",
   "name": "python3"
  },
  "language_info": {
   "codemirror_mode": {
    "name": "ipython",
    "version": 3
   },
   "file_extension": ".py",
   "mimetype": "text/x-python",
   "name": "python",
   "nbconvert_exporter": "python",
   "pygments_lexer": "ipython3",
   "version": "3.7.0"
  }
 },
 "nbformat": 4,
 "nbformat_minor": 2
}
